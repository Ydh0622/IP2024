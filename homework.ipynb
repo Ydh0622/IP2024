{
 "cells": [
  {
   "cell_type": "code",
   "execution_count": 16,
   "metadata": {},
   "outputs": [],
   "source": [
    "import cv2\n",
    "import numpy as np\n",
    "from matplotlib import pyplot as plt"
   ]
  },
  {
   "cell_type": "code",
   "execution_count": 17,
   "metadata": {},
   "outputs": [],
   "source": [
    "img = cv2.imread('DOGe.jpg')\n",
    "def nothing(x):\n",
    "    pass\n"
   ]
  },
  {
   "cell_type": "code",
   "execution_count": 18,
   "metadata": {},
   "outputs": [],
   "source": [
    "drawing=False#trueifmouseispressed\n",
    "mode= True\n",
    "ix,iy= -1, -1\n",
    "font = cv2.FONT_HERSHEY_SIMPLEX\n",
    "\n",
    "def draw_circle(event,x,y,flags,param):\n",
    "    global ix,iy,drawing ,mode\n",
    "    if event==cv2.EVENT_LBUTTONDOWN:\n",
    "        drawing=True\n",
    "        ix, iy= x, y\n",
    "    elif event==cv2.EVENT_MOUSEMOVE:\n",
    "        cv2.putText(img,'Mouse Position ,(' +str(ix)+\",\"+str(iy)+\")\",(10,50),font, 0.7,(255,255,255),1,cv2.LINE_AA)\n",
    "        if drawing==True:\n",
    "            if mode== True:\n",
    "                cv2.rectangle(img,(ix,iy),(x,y),(0,0,255),-1)\n",
    "            else:\n",
    "                cv2.circle(img,(x,y),5,(0,0,255),-1)\n",
    "    elif event==cv2.EVENT_LBUTTONUP:\n",
    "        drawing=False   \n",
    "        if mode== True:\n",
    "            cv2.rectangle(img,(ix,iy),(x,y),(0,0,255),-1)\n",
    "        else:\n",
    "            cv2.circle(img,(x,y),5,(0,0,255),-1)"
   ]
  },
  {
   "cell_type": "code",
   "execution_count": 19,
   "metadata": {},
   "outputs": [],
   "source": [
    "cv2.namedWindow('image')\n",
    "cv2.setMouseCallback('image',draw_circle)\n",
    "cv2.createTrackbar('value','image', 0,100, nothing)\n",
    "\n",
    "m1mg1 = img\n",
    "\n",
    "while(1):\n",
    "    m = cv2.getTrackbarPos('value', 'image')\n",
    "    mimg1 = cv2.medianBlur(img, 2 * m + 1)\n",
    "    cv2.imshow('image',  mimg1)\n",
    "\n",
    "    k=cv2.waitKey(1)&0xFF\n",
    "    if k== ord('m'):\n",
    "        mode=not mode\n",
    "    elif k==27:\n",
    "        break\n",
    "cv2.destroyAllWindows()"
   ]
  }
 ],
 "metadata": {
  "kernelspec": {
   "display_name": "Python 3",
   "language": "python",
   "name": "python3"
  },
  "language_info": {
   "codemirror_mode": {
    "name": "ipython",
    "version": 3
   },
   "file_extension": ".py",
   "mimetype": "text/x-python",
   "name": "python",
   "nbconvert_exporter": "python",
   "pygments_lexer": "ipython3",
   "version": "3.8.19"
  }
 },
 "nbformat": 4,
 "nbformat_minor": 2
}
