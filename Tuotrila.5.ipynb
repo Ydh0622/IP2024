{
 "cells": [
  {
   "cell_type": "code",
   "execution_count": 3,
   "metadata": {},
   "outputs": [],
   "source": [
    "x = 3\n"
   ]
  },
  {
   "cell_type": "code",
   "execution_count": 4,
   "metadata": {},
   "outputs": [
    {
     "name": "stdout",
     "output_type": "stream",
     "text": [
      "X equals 3.\n",
      "This is outside the 'if'. \n"
     ]
    }
   ],
   "source": [
    "if x == 3:\n",
    "    print (\"X equals 3.\")\n",
    "elif x == 2:\n",
    "    print (\"X equals 2.\")\n",
    "else:\n",
    "    print (\"X equals something else.\")\n",
    "print (\"This is outside the 'if'. \")"
   ]
  },
  {
   "cell_type": "code",
   "execution_count": 5,
   "metadata": {},
   "outputs": [
    {
     "name": "stdout",
     "output_type": "stream",
     "text": [
      "3 still in the looop\n",
      "4 still in the looop\n"
     ]
    }
   ],
   "source": [
    "while x < 5:\n",
    "    print (x, \"still in the looop\")\n",
    "    x = x + 1"
   ]
  },
  {
   "cell_type": "code",
   "execution_count": 7,
   "metadata": {},
   "outputs": [],
   "source": [
    "x = 6"
   ]
  },
  {
   "cell_type": "code",
   "execution_count": 8,
   "metadata": {},
   "outputs": [],
   "source": [
    "while x < 5:\n",
    "    print (x, \"still in the loop\")"
   ]
  }
 ],
 "metadata": {
  "kernelspec": {
   "display_name": "Python 3",
   "language": "python",
   "name": "python3"
  },
  "language_info": {
   "codemirror_mode": {
    "name": "ipython",
    "version": 3
   },
   "file_extension": ".py",
   "mimetype": "text/x-python",
   "name": "python",
   "nbconvert_exporter": "python",
   "pygments_lexer": "ipython3",
   "version": "3.8.19"
  }
 },
 "nbformat": 4,
 "nbformat_minor": 2
}
